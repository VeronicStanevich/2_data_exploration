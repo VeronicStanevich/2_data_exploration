{
 "cells": [
  {
   "cell_type": "markdown",
   "metadata": {},
   "source": [
    "Each task that is proposed to be completed as part of the homework has a declared \"price\" in points. The maximum possible amount is 10 points, and together with the bonus assignment - 12 points. It is not necessary to complete all the tasks, only a part can be done. Most of the points expect you to write working Python code; sometimes you will need to write comments - for example, to compare several approaches to solve the same problem. Also you can add more cells for your convenience if you need."
   ]
  },
  {
   "cell_type": "markdown",
   "metadata": {},
   "source": [
    "This homework focuses on clustering. We will work with images of handwritten digits, learn how to cluster them using two different methods (hierarchical clustering and the 𝐾-means algorithm), evaluate the quality of the partition and choose the optimal number of clusters, as well as visualize intermediate results."
   ]
  },
  {
   "cell_type": "markdown",
   "metadata": {},
   "source": [
    "## 1. Loading data\n",
    "The data we will be working with is available in the scikit-learn library (`sklearn` module) in the `datasets` submodule via the `load_digits` function. The data contains 1,797 observations, each of which is 8×8 pixel image of a handwritten digit from 0 to 9. This is about the same amount of each digit (about 180).\n",
    "\n",
    "For convenience, every image expands to a 64 (8×8) row, so entire numpy array is 1797×64. The color intensity in each pixel is encoded with an integer from 0 to 16.\n",
    "\n",
    "In addition to images, their labels are also known. In this task, we will assume that the labels (as well as their amount) are unknown and try to group the data in such a way that the resulting clusters 'better match' the original ones. Possible options for determining the 'better match' are presented later."
   ]
  },
  {
   "cell_type": "markdown",
   "metadata": {},
   "source": [
    "**(0.25 points)** Load the images into `X` variable, and their labels into `y` variable."
   ]
  },
  {
   "cell_type": "code",
   "execution_count": 13,
   "metadata": {},
   "outputs": [
    {
     "name": "stdout",
     "output_type": "stream",
     "text": [
      "(1797, 64)\n",
      "(1797,)\n"
     ]
    }
   ],
   "source": [
    "from sklearn.datasets import load_digits\n",
    "digits = load_digits()\n",
    "X= digits.data\n",
    "y= digits.target\n",
    "print(X.shape)\n",
    "print(y.shape)"
   ]
  },
  {
   "cell_type": "code",
   "execution_count": 14,
   "metadata": {},
   "outputs": [],
   "source": [
    "assert X.shape == (1797, 64)\n",
    "assert y.shape == (1797,)"
   ]
  },
  {
   "cell_type": "markdown",
   "metadata": {},
   "source": [
    "**(0.5 points)** Visualize the first 10 images.\n",
    "\n",
    "- Arrange images on a grid rather than in a row. You may need the `subplot` and `imshow` functions from the `pyplot` module in the `matplotlib` library.\n",
    "- You will also need to reshape the images to 8×8.\n",
    "- Remove ticks and labels from both axes. The `xticks` and `yticks` functions or the `tick_params` function from `pyplot` can help you with this.\n",
    "- Make the output good sized with the `figure` function from `pyplot`."
   ]
  },
  {
   "cell_type": "code",
   "execution_count": 34,
   "metadata": {},
   "outputs": [
    {
     "data": {
      "image/png": "[encoded data removed]",
      "text/plain": [
       "<Figure size 1440x720 with 10 Axes>"
      ]
     },
     "metadata": {
      "needs_background": "light"
     },
     "output_type": "display_data"
    }
   ],
   "source": [
    "import matplotlib.pyplot as plt\n",
    "\n",
    "_, axes = plt.subplots(nrows=2, ncols=5, figsize=(20, 10))\n",
    "for ax, image, label in zip(axes.flatten(), X, y):\n",
    "    ax.set_axis_off()\n",
    "    ax.imshow(image.reshape((8, 8)))\n",
    "    ax.set_title(label)"
   ]
  },
  {
   "cell_type": "markdown",
   "metadata": {},
   "source": [
    "## 2. Clustering and quality evaluation"
   ]
  },
  {
   "cell_type": "markdown",
   "metadata": {},
   "source": [
    "**(2 points)** Implement the the KMeans algorithm. Use objective function $L = \\sum_{i=1}^{n}|x_{i}-Z_{A(x_{i})}|^{2}$, where $Z_{A(x_{i})}$ is the center of the cluster corresponding to $x_{i}$ object."
   ]
  },
  {
   "cell_type": "code",
   "execution_count": 35,
   "metadata": {},
   "outputs": [],
   "source": [
    "from sklearn.exceptions import NotFittedError\n",
    "from numpy.random import RandomState"
   ]
  },
  {
   "cell_type": "code",
   "execution_count": 36,
   "metadata": {},
   "outputs": [],
   "source": [
    "class CustomKMeans:\n",
    "    def __init__(self, n_clusters=2, max_iter=30, n_init=10, random_state=42):\n",
    "        '''K-Means clustering.\n",
    "        \n",
    "        Args:\n",
    "            n_clusters: int, default=2\n",
    "                The number of clusters to be formed is also \n",
    "                the number of centroids to generate. \n",
    "            max_iter: int, default=300\n",
    "                Maximum number of iterations of the k-means algorithm for a\n",
    "                single run.\n",
    "            n_init: int, default=10\n",
    "                Number of time the k-means algorithm will be run with different\n",
    "                centroid seeds. The final results will be the best output of\n",
    "                n_init consecutive runs in terms of objective function.\n",
    "            random_state: int, default=42\n",
    "                Random state.\n",
    "        '''\n",
    "        self.n_clusters = n_clusters\n",
    "        self.n_init = n_init\n",
    "        self.max_iter = max_iter\n",
    "        self.random_state = RandomState(seed=random_state)\n",
    "        \n",
    "    def calculate_distances_to_centroids(self, X, cluster_centers):\n",
    "        \"\"\"\n",
    "        Returns (n, c) matrix where the element at position (i, j) \n",
    "        is the distance from i-th object to j-th centroid.\"\"\"\n",
    "        # <your code>\n",
    "        \n",
    "        pass\n",
    "    \n",
    "    def update_centroids(self, X, nearest_clusters):\n",
    "        \"\"\"\n",
    "        Returns numpy array of shape (n_clusters, n_features) - \n",
    "        new clusters that are found by averaging objects belonging \n",
    "        to the corresponding cluster.\"\"\"\n",
    "        # <your code>\n",
    "        pass\n",
    "        \n",
    "    def fit(self, X):\n",
    "        \"\"\"Fit the model.\n",
    "        \n",
    "        Args:\n",
    "            X: numpy array of shape (n_samples, n_features)\n",
    "        \"\"\"\n",
    "        assert X.shape[0] >= self.n_clusters\n",
    "        # <your code>\n",
    "        \n",
    "        return self\n",
    "            \n",
    "    \n",
    "    def predict(self, X):\n",
    "        \"\"\"Predict classes.\n",
    "        \n",
    "        Args:\n",
    "            X: numpy array of shape (n_samples, n_features)\n",
    "        Returns:\n",
    "            y: numpy array of shape (n_samples,)\n",
    "                Vector containing predicted cluster labels.\n",
    "        \"\"\"\n",
    "        if hasattr(self, 'cluster_centers_'):\n",
    "            # <your code>\n",
    "            pass\n",
    "        else: \n",
    "            raise NotFittedError(\"CustomKMeans instance is not fitted yet\")"
   ]
  },
  {
   "cell_type": "markdown",
   "metadata": {},
   "source": [
    "**(1 points)** Get the `X` array partition into 10 clusters. Visualize the centers of clusters.\n",
    "- We will assume that the center of the cluster is average value of all observations belonging to the cluster.\n",
    "- The cluster centers should have the same shape as our observations (64). So you have to average the points across the rows."
   ]
  },
  {
   "cell_type": "code",
   "execution_count": 54,
   "metadata": {},
   "outputs": [
    {
     "name": "stdout",
     "output_type": "stream",
     "text": [
      "[[ 0.00000000e+00  5.55111512e-17  3.07228916e-01  7.16265060e+00\n",
      "   1.19457831e+01  1.93373494e+00  1.50602410e-01  5.42168675e-02\n",
      "   2.60208521e-18  1.20481928e-02  3.28313253e+00  1.37951807e+01\n",
      "   8.46385542e+00  1.53012048e+00  9.75903614e-01  2.77108434e-01\n",
      "   1.30104261e-18  6.44578313e-01  1.07108434e+01  1.15602410e+01\n",
      "   4.33734940e+00  5.25903614e+00  3.87349398e+00  3.25301205e-01\n",
      "   6.02409639e-03  4.75903614e+00  1.47590361e+01  5.86144578e+00\n",
      "   6.87951807e+00  1.07530120e+01  6.21686747e+00  1.80722892e-02\n",
      "   0.00000000e+00  8.92771084e+00  1.48072289e+01  9.35542169e+00\n",
      "   1.28132530e+01  1.43915663e+01  5.48192771e+00  0.00000000e+00\n",
      "   9.63855422e-02  6.50602410e+00  1.16867470e+01  1.23433735e+01\n",
      "   1.48373494e+01  1.07590361e+01  1.56626506e+00  0.00000000e+00\n",
      "   6.02409639e-02  1.11445783e+00  3.00000000e+00  7.77710843e+00\n",
      "   1.40843373e+01  4.13253012e+00  1.80722892e-02 -8.32667268e-17\n",
      "  -1.08420217e-19  2.40963855e-02  3.73493976e-01  7.96385542e+00\n",
      "   1.23253012e+01  1.77108434e+00 -8.88178420e-16 -5.55111512e-17]\n",
      " [ 0.00000000e+00  5.96590909e-01  8.71590909e+00  1.46306818e+01\n",
      "   1.40454545e+01  7.00568182e+00  5.45454545e-01 -5.55111512e-17\n",
      "   1.13636364e-02  4.20454545e+00  1.26022727e+01  9.07386364e+00\n",
      "   1.12386364e+01  1.19602273e+01  1.84659091e+00  1.13636364e-02\n",
      "   5.68181818e-03  1.85795455e+00  3.53977273e+00  3.47159091e+00\n",
      "   1.17897727e+01  9.92613636e+00  8.57954545e-01 -1.38777878e-17\n",
      "  -4.33680869e-19  3.97727273e-02  9.09090909e-01  8.30681818e+00\n",
      "   1.38295455e+01  6.76704545e+00  3.06818182e-01 -8.67361738e-19\n",
      "   0.00000000e+00  6.25000000e-02  6.81818182e-01  4.60227273e+00\n",
      "   1.17613636e+01  1.23125000e+01  2.32954545e+00  0.00000000e+00\n",
      "  -3.46944695e-18  4.54545455e-01  1.44318182e+00  6.93181818e-01\n",
      "   4.17613636e+00  1.23693182e+01  6.36363636e+00  5.68181818e-03\n",
      "   1.73472348e-18  9.26136364e-01  7.28409091e+00  6.59090909e+00\n",
      "   8.59659091e+00  1.37215909e+01  6.09090909e+00  1.76136364e-01\n",
      "  -2.16840434e-19  4.77272727e-01  9.52840909e+00  1.49829545e+01\n",
      "   1.41420455e+01  8.88068182e+00  1.85227273e+00  4.20454545e-01]\n",
      " [ 0.00000000e+00  1.10738255e+00  1.00268456e+01  1.34093960e+01\n",
      "   1.41610738e+01  1.25369128e+01  4.37583893e+00  4.02684564e-02\n",
      "   6.71140940e-03  4.55704698e+00  1.49328859e+01  1.25637584e+01\n",
      "   8.70469799e+00  7.03355705e+00  2.47651007e+00  3.35570470e-02\n",
      "   1.34228188e-02  6.07382550e+00  1.45302013e+01  5.95302013e+00\n",
      "   1.97315436e+00  1.02684564e+00  2.01342282e-01 -6.93889390e-18\n",
      "   6.71140940e-03  5.30201342e+00  1.43355705e+01  1.23624161e+01\n",
      "   7.85906040e+00  2.26174497e+00  1.47651007e-01  0.00000000e+00\n",
      "   0.00000000e+00  1.94630872e+00  8.15436242e+00  1.00939597e+01\n",
      "   1.02684564e+01  5.51006711e+00  6.37583893e-01  0.00000000e+00\n",
      "   0.00000000e+00  3.02013423e-01  1.39597315e+00  4.87248322e+00\n",
      "   9.87248322e+00  7.02013423e+00  7.78523490e-01  6.93889390e-18\n",
      "   8.67361738e-19  8.05369128e-01  5.06040268e+00  9.47651007e+00\n",
      "   1.21275168e+01  5.27516779e+00  4.42953020e-01 -1.11022302e-16\n",
      "   0.00000000e+00  1.05369128e+00  1.08926174e+01  1.45369128e+01\n",
      "   7.83892617e+00  1.08724832e+00  2.01342282e-02  0.00000000e+00]\n",
      " [ 0.00000000e+00  1.96000000e-01  6.47600000e+00  1.24800000e+01\n",
      "   1.18560000e+01  5.69600000e+00  6.84000000e-01  8.00000000e-03\n",
      "   4.00000000e-03  2.59200000e+00  1.39640000e+01  9.25200000e+00\n",
      "   9.44000000e+00  1.04560000e+01  1.33600000e+00  4.00000000e-03\n",
      "   8.67361738e-19  4.28000000e+00  1.28560000e+01  4.50800000e+00\n",
      "   6.89200000e+00  1.11400000e+01  1.90400000e+00  0.00000000e+00\n",
      "   0.00000000e+00  2.31200000e+00  1.03960000e+01  1.17840000e+01\n",
      "   1.31640000e+01  1.20560000e+01  2.45600000e+00  0.00000000e+00\n",
      "   0.00000000e+00  3.00000000e-01  3.17200000e+00  6.17200000e+00\n",
      "   6.84000000e+00  1.12400000e+01  4.23200000e+00  0.00000000e+00\n",
      "   0.00000000e+00  2.28000000e-01  2.37200000e+00  1.98400000e+00\n",
      "   1.76000000e+00  1.10040000e+01  6.37600000e+00  1.60000000e-02\n",
      "   2.60208521e-18  7.60000000e-01  8.10400000e+00  5.66400000e+00\n",
      "   4.76400000e+00  1.22440000e+01  5.97600000e+00  1.12000000e-01\n",
      "   0.00000000e+00  1.68000000e-01  6.38800000e+00  1.34680000e+01\n",
      "   1.44960000e+01  9.94800000e+00  2.30000000e+00  1.12000000e-01]\n",
      " [ 0.00000000e+00  1.60194175e-01  4.88834951e+00  1.28689320e+01\n",
      "   1.40631068e+01  1.09805825e+01  4.98543689e+00  9.41747573e-01\n",
      "   3.46944695e-18  1.12135922e+00  1.06553398e+01  1.15145631e+01\n",
      "   1.04320388e+01  1.25825243e+01  5.52427184e+00  5.38834951e-01\n",
      "   1.73472348e-18  1.17961165e+00  5.45145631e+00  2.30097087e+00\n",
      "   6.78640777e+00  1.15339806e+01  3.42233010e+00  1.11650485e-01\n",
      "  -2.16840434e-19  9.75728155e-01  5.04368932e+00  6.50000000e+00\n",
      "   1.21553398e+01  1.21067961e+01  4.79611650e+00  4.85436893e-03\n",
      "   0.00000000e+00  1.44660194e+00  8.63592233e+00  1.30679612e+01\n",
      "   1.46796117e+01  1.06893204e+01  3.93203883e+00  0.00000000e+00\n",
      "  -1.73472348e-18  1.08252427e+00  5.10194175e+00  1.14611650e+01\n",
      "   1.10388350e+01  3.73300971e+00  5.38834951e-01  1.04083409e-17\n",
      "   2.60208521e-18  1.01941748e-01  2.98058252e+00  1.22572816e+01\n",
      "   6.39805825e+00  4.56310680e-01  9.70873786e-03 -8.32667268e-17\n",
      "  -1.08420217e-19  1.26213592e-01  6.09223301e+00  1.19660194e+01\n",
      "   2.70388350e+00  2.86407767e-01  3.39805825e-02  1.66533454e-16]\n",
      " [ 0.00000000e+00  2.23463687e-02  4.22905028e+00  1.31396648e+01\n",
      "   1.12681564e+01  2.93854749e+00  3.35195531e-02 -2.77555756e-17\n",
      "   2.60208521e-18  8.82681564e-01  1.26201117e+01  1.33687151e+01\n",
      "   1.14078212e+01  1.13687151e+01  9.60893855e-01 -1.38777878e-17\n",
      "   1.30104261e-18  3.72625698e+00  1.42122905e+01  5.25139665e+00\n",
      "   2.10614525e+00  1.21173184e+01  3.53072626e+00 -1.38777878e-17\n",
      "  -2.16840434e-19  5.29608939e+00  1.26424581e+01  2.03351955e+00\n",
      "   2.29050279e-01  9.07821229e+00  6.47486034e+00 -4.33680869e-19\n",
      "   0.00000000e+00  5.88268156e+00  1.14916201e+01  8.65921788e-01\n",
      "   3.35195531e-02  8.81005587e+00  7.15083799e+00  0.00000000e+00\n",
      "  -1.73472348e-18  3.51396648e+00  1.32849162e+01  1.65921788e+00\n",
      "   1.49162011e+00  1.13519553e+01  5.84357542e+00  3.46944695e-18\n",
      "   8.67361738e-19  8.04469274e-01  1.31117318e+01  9.96089385e+00\n",
      "   1.03519553e+01  1.32960894e+01  2.47486034e+00  2.23463687e-02\n",
      "  -1.08420217e-19  5.58659218e-03  4.19553073e+00  1.35865922e+01\n",
      "   1.33407821e+01  5.48044693e+00  3.18435754e-01  1.67597765e-02]\n",
      " [ 0.00000000e+00  0.00000000e+00  3.33333333e-02  1.68888889e+00\n",
      "   1.10333333e+01  1.25000000e+01  4.14444444e+00  2.44444444e-01\n",
      "   8.67361738e-19  5.55555556e-02  1.87777778e+00  8.85555556e+00\n",
      "   1.39333333e+01  1.23888889e+01  5.10000000e+00  3.22222222e-01\n",
      "   4.33680869e-19  1.62222222e+00  8.74444444e+00  1.27555556e+01\n",
      "   1.23000000e+01  1.29111111e+01  3.82222222e+00  1.44444444e-01\n",
      "  -2.16840434e-19  3.62222222e+00  1.21222222e+01  1.19111111e+01\n",
      "   1.31222222e+01  1.35000000e+01  2.50000000e+00 -4.33680869e-19\n",
      "   0.00000000e+00  1.92222222e+00  6.85555556e+00  7.23333333e+00\n",
      "   1.16777778e+01  1.25666667e+01  1.84444444e+00  0.00000000e+00\n",
      "  -1.73472348e-18  8.11111111e-01  1.97777778e+00  3.76666667e+00\n",
      "   1.16666667e+01  1.18666667e+01  1.21111111e+00  0.00000000e+00\n",
      "   0.00000000e+00  6.66666667e-02  3.22222222e-01  2.91111111e+00\n",
      "   1.24777778e+01  1.17111111e+01  1.67777778e+00 -8.32667268e-17\n",
      "  -1.08420217e-19  0.00000000e+00 -8.88178420e-16  1.76666667e+00\n",
      "   1.12888889e+01  1.07666667e+01  1.74444444e+00 -5.55111512e-17]\n",
      " [ 0.00000000e+00  1.11607143e-01  3.99107143e+00  1.18839286e+01\n",
      "   1.23214286e+01  5.36160714e+00  4.33035714e-01  2.77555756e-17\n",
      "   8.92857143e-03  8.57142857e-01  8.24553571e+00  1.35446429e+01\n",
      "   1.25625000e+01  9.87500000e+00  1.56696429e+00 -2.77555756e-17\n",
      "   1.73472348e-18  1.21428571e+00  8.37053571e+00  1.18839286e+01\n",
      "   1.23348214e+01  9.46428571e+00  1.02678571e+00  6.93889390e-18\n",
      "   2.16840434e-19  9.41964286e-01  7.26339286e+00  1.40848214e+01\n",
      "   1.41785714e+01  4.95535714e+00  2.00892857e-01  4.33680869e-19\n",
      "   0.00000000e+00  7.67857143e-01  8.00446429e+00  1.47812500e+01\n",
      "   1.29107143e+01  2.18750000e+00  1.78571429e-02  0.00000000e+00\n",
      "   1.73472348e-18  1.22767857e+00  1.04553571e+01  1.20178571e+01\n",
      "   1.21294643e+01  4.02678571e+00  2.00892857e-01  1.38777878e-17\n",
      "   1.33928571e-02  8.75000000e-01  9.57142857e+00  1.15714286e+01\n",
      "   1.20758929e+01  5.57589286e+00  6.16071429e-01  4.46428571e-03\n",
      "   4.46428571e-03  1.11607143e-01  4.20089286e+00  1.20089286e+01\n",
      "   1.25982143e+01  4.85714286e+00  8.08035714e-01  8.92857143e-03]\n",
      " [ 0.00000000e+00  9.42857143e-01  1.01885714e+01  1.44400000e+01\n",
      "   7.77142857e+00  9.82857143e-01 -6.66133815e-16 -2.77555756e-17\n",
      "   2.28571429e-02  5.24000000e+00  1.37200000e+01  1.26228571e+01\n",
      "   1.16914286e+01  3.23428571e+00  1.71428571e-02 -2.77555756e-17\n",
      "   1.14285714e-02  4.56000000e+00  8.11428571e+00  6.13714286e+00\n",
      "   1.21600000e+01  3.56000000e+00  1.71428571e-02 -1.38777878e-17\n",
      "  -2.16840434e-19  9.65714286e-01  2.81714286e+00  7.00571429e+00\n",
      "   1.25371429e+01  2.56000000e+00  4.00000000e-02 -4.33680869e-19\n",
      "   0.00000000e+00  4.57142857e-02  1.57142857e+00  9.89714286e+00\n",
      "   1.06971429e+01  1.45142857e+00 -4.44089210e-16  0.00000000e+00\n",
      "  -1.73472348e-18  2.51428571e-01  4.45714286e+00  1.12457143e+01\n",
      "   7.74285714e+00  2.37142857e+00  8.45714286e-01  1.14285714e-02\n",
      "   1.73472348e-18  1.19428571e+00  1.09942857e+01  1.37314286e+01\n",
      "   1.19257143e+01  1.11600000e+01  7.66857143e+00  1.10285714e+00\n",
      "  -1.08420217e-19  9.31428571e-01  1.03885714e+01  1.44685714e+01\n",
      "   1.35028571e+01  1.23542857e+01  8.96571429e+00  2.95428571e+00]\n",
      " [ 0.00000000e+00  1.11022302e-16  1.15934066e+00  1.12252747e+01\n",
      "   9.53296703e+00  1.41758242e+00  5.49450549e-03 -5.55111512e-17\n",
      "   2.60208521e-18  6.04395604e-02  7.18131868e+00  1.45604396e+01\n",
      "   6.19230769e+00  8.29670330e-01  2.74725275e-02 -2.77555756e-17\n",
      "   1.30104261e-18  7.69230769e-01  1.24560440e+01  9.47252747e+00\n",
      "   9.34065934e-01  1.09890110e-01  0.00000000e+00 -6.93889390e-18\n",
      "  -4.33680869e-19  2.29670330e+00  1.36208791e+01  8.09340659e+00\n",
      "   3.87362637e+00  1.92857143e+00  1.04395604e-01 -8.67361738e-19\n",
      "   0.00000000e+00  3.52747253e+00  1.46758242e+01  1.29175824e+01\n",
      "   1.22527473e+01  1.02857143e+01  2.71978022e+00  0.00000000e+00\n",
      "  -3.46944695e-18  1.86813187e+00  1.45164835e+01  1.06538462e+01\n",
      "   5.57692308e+00  1.01923077e+01  9.13186813e+00  2.30769231e-01\n",
      "   8.67361738e-19  1.75824176e-01  1.02857143e+01  1.26263736e+01\n",
      "   5.41758242e+00  1.13241758e+01  1.08956044e+01  6.26373626e-01\n",
      "  -2.16840434e-19 -1.11022302e-16  1.44505495e+00  1.07362637e+01\n",
      "   1.50989011e+01  1.31318681e+01  4.62087912e+00  1.70329670e-01]]\n",
      "(1797,)\n"
     ]
    }
   ],
   "source": [
    "from sklearn.cluster import KMeans\n",
    "import numpy as np\n",
    "\n",
    "kmeans = KMeans(n_clusters=10, random_state=0, algorithm=\"full\").fit(X)\n",
    "\n",
    "centers = kmeans.cluster_centers_\n",
    "print(centers)\n",
    "\n",
    "custom_kmeans_labels = kmeans.predict(X)\n",
    "print(custom_kmeans_labels.shape)\n",
    "\n",
    "assert custom_kmeans_labels.shape == (1797,)"
   ]
  },
  {
   "cell_type": "markdown",
   "metadata": {},
   "source": [
    "**(0.5 points)** Experiment with `max_iter` and `n_init` parameters. Look at the range of values of the objective function, it's best values, at what parameters and how often they are achieved."
   ]
  },
  {
   "cell_type": "code",
   "execution_count": 55,
   "metadata": {},
   "outputs": [],
   "source": [
    "kmeans1 = KMeans(n_clusters=10, n_init = 10, max_iter = 100, random_state=0, algorithm=\"full\", ).fit(X)\n",
    "kmeans2 = KMeans(n_clusters=10, n_init = 20, max_iter = 100, random_state=0, algorithm=\"full\", ).fit(X)\n",
    "kmeans3 = KMeans(n_clusters=10, n_init = 30, max_iter = 100, random_state=0, algorithm=\"full\", ).fit(X)\n",
    "kmeans4 = KMeans(n_clusters=10, n_init = 40, max_iter = 100, random_state=0, algorithm=\"full\", ).fit(X)\n",
    "kmeans5 = KMeans(n_clusters=10, n_init = 50, max_iter = 100, random_state=0, algorithm=\"full\", ).fit(X)\n",
    "\n",
    "\n",
    "kmeans_1 = KMeans(n_clusters=10, n_init = 10, max_iter = 100, random_state=0, algorithm=\"full\", ).fit(X)\n",
    "kmeans_2 = KMeans(n_clusters=10, n_init = 10, max_iter = 200, random_state=0, algorithm=\"full\", ).fit(X)\n",
    "kmeans_3 = KMeans(n_clusters=10, n_init = 10, max_iter = 300, random_state=0, algorithm=\"full\", ).fit(X)\n",
    "kmeans_4 = KMeans(n_clusters=10, n_init = 10, max_iter = 400, random_state=0, algorithm=\"full\", ).fit(X)\n",
    "kmeans_5= KMeans(n_clusters=10, n_init = 10, max_iter = 500, random_state=0, algorithm=\"full\", ).fit(X)"
   ]
  },
  {
   "cell_type": "markdown",
   "metadata": {},
   "source": [
    "Now we will use two popular algorithms: hierarchical clustering and $K$-means clustering. These and other algorithms are available in the `scikit-learn` module in the `cluster` submodule. Hierarchical clustering is called `AgglomerativeClustering`, and the $K$-means method is called `KMeans`.\n",
    "\n",
    "**(0.5 points)** Use each of the two methods: hierarchical clustering and KMeans. Get the `X` array partition into 10 clusters.\n",
    "\n",
    "- Note that `AgglomerativeClustering` does not have a `predict` method, so you can either use the `fit_predict` method or use the `fit` method and then look at the `labels_` attribute of the class instance.\n",
    "- Kmeans performs multiple runs (default 10) with random centers and then returns the best partition in terms of average distance within the clusters. You can increase the number of runs to improve the quality of predictions in the `i_init` parameter."
   ]
  },
  {
   "cell_type": "code",
   "execution_count": null,
   "metadata": {},
   "outputs": [],
   "source": [
    "hierarchical_labels = ...\n",
    "kmeans_labels = ..."
   ]
  },
  {
   "cell_type": "code",
   "execution_count": null,
   "metadata": {},
   "outputs": [],
   "source": [
    "assert hierarchical_labels.shape == (1797,)\n",
    "assert kmeans_labels.shape == (1797,)"
   ]
  },
  {
   "cell_type": "markdown",
   "metadata": {},
   "source": [
    "**(0.5 points)** Visualize the centers of clusters obtained by both methods."
   ]
  },
  {
   "cell_type": "code",
   "execution_count": null,
   "metadata": {},
   "outputs": [],
   "source": []
  },
  {
   "cell_type": "markdown",
   "metadata": {},
   "source": [
    "In a situation where the true number of classes is unknown, we can select it by maximazing some metric.\n",
    "\n",
    "When we can set some distance function between our observations, we can consider the `silhouette` distance as a function of measuring the quality of the clustering. Let's show how it is calculated:"
   ]
  },
  {
   "cell_type": "markdown",
   "metadata": {},
   "source": [
    "Let $X$ – set of observations, $M \\subset X$ – one of the clusters obtained as a result of clustering process, $\\rho$ – some metric on $X$. Let's choose one observation $x \\in M$. Denote $a(x)$ as the average distance from $x$ to  $x'$ points from the same cluster:\n",
    "$$\n",
    "a(x) = \\frac{1}{|M| - 1} \\sum_{x' \\in M,\\, x' \\ne x} \\rho(x,\\, x')\n",
    "$$\n",
    "\n",
    "Denote $b(x)$ as minimun of average distances from $x$ to $x''$ from some other cluster $N$:\n",
    "$$\n",
    "b(x) = \\min_{N \\ne M} \\frac{1}{|N|} \\sum_{x'' \\in N} \\rho(x,\\, x'')\n",
    "$$\n",
    "\n",
    "The silhouette is difference between a(x) and b(x), normalized to $[-1, \\, 1]$ and averaged over all observations:\n",
    "$$\n",
    "\\frac{1}{|X|} \\sum_{x \\in X} \\frac{b(x) - a(x)}{\\max(a(x),\\, b(x))}\n",
    "$$\n",
    "\n",
    "The implementation of this metric in the `scikit-learn` is the `silhouette_score` function from the `metrics` submidule."
   ]
  },
  {
   "cell_type": "markdown",
   "metadata": {},
   "source": [
    "**(0.75 point)** For each $K$ between 2 and 20 inclusive, partition of the array $X$ into $K$ clusters using both methods. Calculate the silhouette score and visualize it for both methods on the same plot ($K$ on the $x$ axis and silhouette score on the $y$ axis). Sign the axes and make a legend."
   ]
  },
  {
   "cell_type": "code",
   "execution_count": null,
   "metadata": {},
   "outputs": [],
   "source": []
  },
  {
   "cell_type": "markdown",
   "metadata": {},
   "source": [
    "When we know the true clustering labels, the clustering result can be compared to them using measures such as `homogeneity`, `completeness` and their harmonic mean - $V$-score. The definitions of these quantities are rather bulky and are based on the [entropy of the probability distribution](https://ru.wikipedia.org/wiki/Информационная_энтропия). Details are given in [this article](http://aclweb.org/anthology/D/D07/D07-1043.pdf). In practice, it's enough to know that `homogeneity`, `completeness` and $V$-score are in the range from 0 and 1, and the more, the better.\n",
    "\n",
    "Since we know what digit each image is (`y` array), we can compare the clustering results to it using the measures listed above."
   ]
  },
  {
   "cell_type": "markdown",
   "metadata": {},
   "source": [
    "**(0.5 points)** Repeat the previous task using $V$-measure instead of silhouette."
   ]
  },
  {
   "cell_type": "code",
   "execution_count": null,
   "metadata": {},
   "outputs": [],
   "source": []
  },
  {
   "cell_type": "markdown",
   "metadata": {},
   "source": [
    "## 3. Feature space dimensionality reduction\n",
    "\n",
    "In some cases, especially when there are a large number of features, when not all of them are informative, and some of them are correlated, it can be useful to reduce the dimension of the feature space. This mean that instead of $d$ original features, we will go to $d'\\ll d$ new ones. And if earlier our data were presented in the form of an $n×d$ matrix, then it will presented as a $n×d'$.\n",
    "\n",
    "There are two popular dimensionality reduction approaches:\n",
    "- select new features from existing features;\n",
    "- extract the new features by transforming old ones, for example, by making $d'$ different linear combinations of columns of an $n×d$ matrix.\n",
    "\n",
    "One widely used dimensionality reduction technique is the Singular Value Decomposition (SVD). This method allows you to construct any number $d'\\leq d$ of new features in such a way that they are the most informative (in some sense).\n",
    "\n",
    "The `scikit-learn` module has several implementations of singular value decomposition. We will use the `TruncatedSVD` class from the `decomposition` submodule.\n",
    "\n",
    "**Note:** The singular value decomposition of the matrix $M$ is usually written as $M=U \\Sigma V^{*}$. `TruncatedSVD`, in turn, returns only the $d'$ first columns of the matrix $U$."
   ]
  },
  {
   "cell_type": "markdown",
   "metadata": {},
   "source": [
    "**(0.75 point)** Perform a singular value decomposition of the $X$ matrix, leaving 2, 5, 10, 20 features. In each case, perform hierarchical clustering and $K$-Means clustering (take the number of clusters equal to 10). Calculate the silhouette and $V$-score and compare them to corresponding values obtained from the original data.\n",
    "\n",
    "**Note**: It is not valid to compare the silhouette calculated with different metrics. Even if we use the same metric function when calculating the distance between points in the data, after applying dimensionality reduction or other data transformations, we will (not always) get different silhouette scores. Therefore, after training the clustering algorithm, to compare the result of clustering, you need to calculate the silhouette on the original data."
   ]
  },
  {
   "cell_type": "code",
   "execution_count": null,
   "metadata": {},
   "outputs": [],
   "source": []
  },
  {
   "cell_type": "markdown",
   "metadata": {},
   "source": [
    "Another popular dimensionality reduction approach that is useful for working with images is t-distributed stochastic neighbor embeddings, abbreviated `tSNE`. Unlike singular value decomposition, this it is non-linear transformation. It's main idea is to map points from a space of dimension `d` to another space of dimension 2 or 3 in such a way that the distances between points are mostly preserved. Mathematical details can be found, for example, [here](https://en.wikipedia.org/wiki/T-distributed_stochastic_neighbor_embedding).\n",
    "\n",
    "The implementation of `tSNE` in the `scikit-learn` library is the `TSNE` class in the `manifold` submodule.\n",
    "\n",
    "**Note:** In recent years [UMAP](https://github.com/lmcinnes/umap) is often used istead of `tSNE`. It is a faster algorithm with similar properties. We don't ask you to use `UMAP` because it requires you to install another dependency, the `umap-learn` library. Those who wish can perform the following task using `UMAP`."
   ]
  },
  {
   "cell_type": "markdown",
   "metadata": {},
   "source": [
    "**(0.5 points)** Perform a tSNE-transform of the `X` matrix, leaving 2 features. Visualize the obtained data in the form of a scatter plot form: the first feature on the horizontal axis, and the second one the vertical axis. Color the points according to the digits they belong to.\n",
    "\n",
    "- The `c` parameter in the plt.scatter function is responsible for the color of the points. Pass the true labels to it."
   ]
  },
  {
   "cell_type": "code",
   "execution_count": null,
   "metadata": {},
   "outputs": [],
   "source": []
  },
  {
   "cell_type": "markdown",
   "metadata": {},
   "source": [
    "**(0.5 points)** From the data transformed using the tSNE, perform hierarchical clustering and $K$-means clustering (take the number of clusters equal to 10). Calculate the silhouette and the $V$-score and compare them to corresponding values obtained from the original data."
   ]
  },
  {
   "cell_type": "code",
   "execution_count": null,
   "metadata": {},
   "outputs": [],
   "source": []
  },
  {
   "cell_type": "markdown",
   "metadata": {},
   "source": [
    "**(0.25 points)** Choose the best partition (in terms of silhouette or $V$-score) and visualize the centers of clusters with images. Did you managed to make each digit correspond to one center of the cluster?"
   ]
  },
  {
   "cell_type": "code",
   "execution_count": null,
   "metadata": {},
   "outputs": [],
   "source": []
  },
  {
   "cell_type": "markdown",
   "metadata": {},
   "source": [
    "## 4. Results and bonus part"
   ]
  },
  {
   "cell_type": "markdown",
   "metadata": {},
   "source": [
    "Write in free form what conclusions you made after completing this assignment. Answer the following questions:\n",
    "\n",
    "**(0.5 points)** Which algorithm gives more meaningful results - hierarchical clustering or $K$- means clustering. Does it depend on the algorithm settings or on the quality evaluation method?"
   ]
  },
  {
   "cell_type": "markdown",
   "metadata": {},
   "source": [
    "Мне кажется, что оба метода имеют право на существование, так как в каждом из них есть свои преимущества и свои недостатки. Какой из методов лучше применять, на мой взгляд, зависит от конкетного случая (от рассматриваемых данных, их количества, коррелированности). \n",
    "\n",
    "𝐾 - means clustering \n",
    "ПЛЮСЫ: 1) гарантируется сходимость, 2) можно выделять на кластеры разных размеров и форм. \n",
    "МИНУСЫ: 1) значение K трудно предсказать, 2) плохо работает с глобальным кластером.\n",
    "\n",
    "hierarchical clustering \n",
    "ПЛЮСЫ: 1) легкость обращения с любыми формами подобия или расстояния, 2) применимость к любым типам атрибутов. \n",
    "МИНУСЫ: 1) иерархическая кластеризация требует вычисления и хранения матрицы расстояний n×n. Для очень больших наборов данных это может быть очень медленно."
   ]
  },
  {
   "cell_type": "markdown",
   "metadata": {},
   "source": [
    "**(0.5 points)** Imagine the situation where after hierarchical clustering, you need to cluster new data in the same way without retraining the model. Suggest a method how you will do it and how you will measure the quality of clustering of new data."
   ]
  },
  {
   "cell_type": "markdown",
   "metadata": {},
   "source": [
    "Предположу, что для нового набора данных следует произвести иерархическую кластеризацию точно также как и для предыдущей модели.\n",
    "А оценить качество полученной модели можно сравнив расстояния между каластерами старой и новой модели, если значения близки,\n",
    "то кластеризация новых данных прошла успешна."
   ]
  },
  {
   "cell_type": "markdown",
   "metadata": {},
   "source": [
    "**(0.5 points)** Does dimensionality reduction improve clustering results?"
   ]
  },
  {
   "cell_type": "markdown",
   "metadata": {},
   "source": [
    "Да, уменьшение размерности действительно улучшает результаты кластеризации.\n",
    "Уменьшение размерности позволяет сократить эффективное время обработки при кластеризации, а также уменьшить влияние \"проклятия размерности\".\n"
   ]
  },
  {
   "cell_type": "markdown",
   "metadata": {},
   "source": [
    "**(0.5 points)** How to evaluate the quality of dimensional reduction? Suggest at least 2 options."
   ]
  },
  {
   "cell_type": "markdown",
   "metadata": {},
   "source": [
    "1) Можно уменьшить размерность, преобразовать данные и визуализировать, чтобы увидеть, можно ли теперь создавать на них кластеры.\n",
    "2) Таже существует метод рассчёта среднего количества перекрытий между k-ближайшими соседями в многомерном пространстве и низкоразмерной проекцией(LCMC - Local Continuity Meta-Criterion.\n"
   ]
  },
  {
   "cell_type": "markdown",
   "metadata": {},
   "source": [
    "**(Bonus 2 points)** Load the [MNIST Handwritten Digits](http://yann.lecun.com/exdb/mnist) dataset. You can also do it with `scikit-learn` as explained [here](https://stackoverflow.com/a/60450028). Explore the data and try to cluster it using different approaches. Compare results of these approaches using the silhouette and the $V$-score."
   ]
  },
  {
   "cell_type": "code",
   "execution_count": null,
   "metadata": {},
   "outputs": [],
   "source": []
  }
 ],
 "metadata": {
  "kernelspec": {
   "display_name": "Python 3 (ipykernel)",
   "language": "python",
   "name": "python3"
  },
  "language_info": {
   "codemirror_mode": {
    "name": "ipython",
    "version": 3
   },
   "file_extension": ".py",
   "mimetype": "text/x-python",
   "name": "python",
   "nbconvert_exporter": "python",
   "pygments_lexer": "ipython3",
   "version": "3.9.7"
  }
 },
 "nbformat": 4,
 "nbformat_minor": 4
}
